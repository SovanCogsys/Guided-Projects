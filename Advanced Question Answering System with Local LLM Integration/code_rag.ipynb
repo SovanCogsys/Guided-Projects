{
 "cells": [
  {
   "cell_type": "code",
   "execution_count": 9,
   "metadata": {},
   "outputs": [
    {
     "name": "stdout",
     "output_type": "stream",
     "text": [
      "Table created successfully\n",
      "Inserted data with id: 1\n",
      "PostgreSQL connection closed\n"
     ]
    }
   ],
   "source": [
    "import psycopg2\n",
    "\n",
    "try:\n",
    "\n",
    "    # Connect to your PostgreSQL database\n",
    "    conn = psycopg2.connect(\n",
    "        dbname=\"vector_db\",\n",
    "        user=\"postgres\",\n",
    "        password=\"gugul\",\n",
    "        host=\"localhost\",\n",
    "        port=\"5432\"\n",
    "    )\n",
    "    cur = conn.cursor()\n",
    "\n",
    "    # Example SQL command to create a table\n",
    "    create_table_query = '''\n",
    "    CREATE TABLE IF NOT EXISTS trial (\n",
    "        id SERIAL PRIMARY KEY,\n",
    "        page_content TEXT NOT NULL,\n",
    "        metadata JSONB,\n",
    "        embedding VECTOR -- Assuming VECTOR is a custom type provided by PGVector extension\n",
    "    );\n",
    "    '''\n",
    "\n",
    "    cur.execute(create_table_query)\n",
    "    conn.commit()\n",
    "    print(\"Table created successfully\")\n",
    "\n",
    "    \n",
    "\n",
    "\n",
    "\n",
    "    #Example SQL command to insert data\n",
    "    insert_data_query = '''\n",
    "    INSERT INTO trial (page_content, code)\n",
    "    VALUES (%s, %s)\n",
    "    RETURNING id;\n",
    "    '''\n",
    "    page_content = 'Description of logic code 1'\n",
    "    metadata = '{\"script\": \"Code snippet 1\"}'\n",
    "\n",
    "    cur.execute(insert_data_query, (page_content, metadata))\n",
    "    new_id = cur.fetchone()[0]\n",
    "    conn.commit()\n",
    "    print(f\"Inserted data with id: {new_id}\")\n",
    "\n",
    "  \n",
    "\n",
    "except Exception as error:\n",
    "    print(f\"Error: {error}\")\n",
    "\n",
    "finally:\n",
    "    if conn:\n",
    "        cur.close()\n",
    "        conn.close()\n",
    "        print(\"PostgreSQL connection closed\")\n"
   ]
  },
  {
   "cell_type": "code",
   "execution_count": null,
   "metadata": {},
   "outputs": [],
   "source": []
  }
 ],
 "metadata": {
  "kernelspec": {
   "display_name": "project_1",
   "language": "python",
   "name": "python3"
  },
  "language_info": {
   "codemirror_mode": {
    "name": "ipython",
    "version": 3
   },
   "file_extension": ".py",
   "mimetype": "text/x-python",
   "name": "python",
   "nbconvert_exporter": "python",
   "pygments_lexer": "ipython3",
   "version": "3.8.19"
  }
 },
 "nbformat": 4,
 "nbformat_minor": 2
}
